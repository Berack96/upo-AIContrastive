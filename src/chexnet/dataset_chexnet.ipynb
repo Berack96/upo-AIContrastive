{
 "cells": [
  {
   "cell_type": "markdown",
   "metadata": {},
   "source": [
    "# CheXNet\n",
    "Uso della CheXNet per migliorare gli embedding e le predizioni.\\\n",
    "Per prima cosa carico la CheXNet dall'architettura DenseNet121 e dai pesi scaricati nella apposita directory."
   ]
  },
  {
   "cell_type": "code",
   "execution_count": 1,
   "id": "621e5525",
   "metadata": {},
   "outputs": [],
   "source": [
    "import numpy as np\n",
    "import os, pandas as pd\n",
    "import matplotlib.pyplot as plt\n",
    "from tqdm import tqdm\n",
    "from keras import models, applications\n",
    "from keras.api.preprocessing.image import load_img, img_to_array\n",
    "\n",
    "root = '../..'\n",
    "dataset_path = f\"{root}/datasets/covid_cxr\"\n",
    "dataset_embeddings = f\"{dataset_path}_embeddings.npz\"\n",
    "chexnet_path = f\"{root}/models/CheXNet.keras\"\n",
    "batch = 32\n",
    "size = (224, 224)\n",
    "\n",
    "if not os.path.exists(chexnet_path):\n",
    "    base = applications.densenet.DenseNet121(weights=None, include_top=True, input_shape=(224,224,3), classes=14)\n",
    "    base.load_weights(f\"{root}/models/weight_only/CheXNet.h5\")\n",
    "    base.save(chexnet_path)\n",
    "\n",
    "base = models.load_model(chexnet_path, compile=True)"
   ]
  },
  {
   "cell_type": "markdown",
   "metadata": {},
   "source": [
    "A questo punto carico la CheXNet e predico tutti gli embedding per le immagini.\\\n",
    "Per fare questo devo quindi rimuovere l'ultimo layer per la classificazione."
   ]
  },
  {
   "cell_type": "code",
   "execution_count": 2,
   "id": "00f85c06",
   "metadata": {},
   "outputs": [],
   "source": [
    "cheXnet = models.Model(inputs=base.input, outputs=base.layers[-2].output)\n",
    "for layer in cheXnet.layers: layer.trainable = False"
   ]
  },
  {
   "cell_type": "markdown",
   "id": "934e82e3",
   "metadata": {},
   "source": [
    "In questo punto carico il dataset e lo trasformo in embedding.\\\n",
    "Nel caso ci sia una cache, essa viene prelevata ed eventualmente modificata in modo da bilanciare le classi o fare ulteriori modifiche."
   ]
  },
  {
   "cell_type": "code",
   "execution_count": 3,
   "id": "cb6d8616",
   "metadata": {},
   "outputs": [
    {
     "name": "stdout",
     "output_type": "stream",
     "text": [
      "Train: 67863, Validation: 8473, Test: 8482\n"
     ]
    }
   ],
   "source": [
    "# Load all the names of the images in one pandas\n",
    "all_files = []\n",
    "for t in ['train', 'val', 'test']:\n",
    "    df = pd.read_csv(f\"{dataset_path}/{t}.txt\", delimiter=' ', header=None)\n",
    "    df[1] = df[1].apply(lambda x: f\"{dataset_path}/{t}/{x}\")\n",
    "    all_files.append(df)\n",
    "df = pd.concat(all_files)\n",
    "df.columns = ['id', 'filename', 'class', 'source']\n",
    "\n",
    "try:\n",
    "    ds = np.load(dataset_embeddings, allow_pickle=True)\n",
    "    embeddings = np.vstack((ds['x_train'], ds['x_val'], ds['x_test']))\n",
    "    predictions = np.hstack((ds['y_train'], ds['y_val'], ds['y_test']))\n",
    "\n",
    "    train_tot = len(ds['y_train'])\n",
    "    val_tot = train_tot + len(ds['y_val'])\n",
    "    test_tot = val_tot + len(ds['y_test'])\n",
    "\n",
    "except FileNotFoundError:\n",
    "    print(f\"Dataset embeddings not found at {dataset_embeddings}. Creating new embeddings...\")\n",
    "\n",
    "    # Convert the classes to a numpy array\n",
    "    predictions = np.array(pd.factorize(df['class'])[0])\n",
    "\n",
    "    # Create the embeddings for the images\n",
    "    images = df['filename']\n",
    "    embeddings = np.zeros((len(images), 1024), dtype=\"float32\")\n",
    "    img_batch = []\n",
    "    for i, img_name in enumerate(tqdm(images)):\n",
    "        img = load_img(img_name, target_size=size, color_mode='rgb')\n",
    "        img = img_to_array(img)\n",
    "        img_batch.append(img)\n",
    "        if len(img_batch) == batch or i == len(images) - 1:\n",
    "            img_batch = np.array(img_batch)\n",
    "            batch_embeddings = cheXnet.predict(img_batch, verbose=0)\n",
    "            embeddings[i - len(img_batch) + 1:i + 1] = batch_embeddings\n",
    "            img_batch = []\n",
    "\n",
    "    # Split the dataset into train, validation, and test sets\n",
    "    train_tot = len(all_files[0])\n",
    "    val_tot = train_tot + len(all_files[1])\n",
    "    test_tot = val_tot + len(all_files[2])\n",
    "\n",
    "print(f\"Train: {train_tot}, Validation: {val_tot - train_tot}, Test: {test_tot - val_tot}\")"
   ]
  },
  {
   "cell_type": "markdown",
   "id": "99f039df",
   "metadata": {},
   "source": [
    "Qui modifichiamo il dataset, preparandolo per la classificazione."
   ]
  },
  {
   "cell_type": "code",
   "execution_count": 4,
   "id": "2d2b058d",
   "metadata": {},
   "outputs": [
    {
     "name": "stdout",
     "output_type": "stream",
     "text": [
      "Train: 30408, Validation: 1898, Test: 1944\n",
      "Train counts: [15204 15204], Validation counts: [949 949], Test counts: [972 972]\n"
     ]
    }
   ],
   "source": [
    "# shuffle the dataset\n",
    "indices_train = np.arange(train_tot)\n",
    "indices_val = np.arange(train_tot, val_tot)\n",
    "indices_test = np.arange(val_tot, test_tot)\n",
    "np.random.shuffle(indices_train)\n",
    "np.random.shuffle(indices_val)\n",
    "np.random.shuffle(indices_test)\n",
    "embeddings = np.vstack((embeddings[indices_train], embeddings[indices_val], embeddings[indices_test]))\n",
    "predictions = np.hstack((predictions[indices_train], predictions[indices_val], predictions[indices_test]))\n",
    "\n",
    "# remove the test embeddings since they are hard to classify\n",
    "if test_tot == val_tot + len(all_files[2]):\n",
    "    embeddings = embeddings[:val_tot]\n",
    "    predictions = predictions[:val_tot]\n",
    "    test_tot = val_tot\n",
    "    val_tot = train_tot + round((val_tot - train_tot) / 2)\n",
    "\n",
    "# Balance the classes\n",
    "ranges = (np.arange(0, train_tot), np.arange(train_tot, val_tot), np.arange(val_tot, test_tot))\n",
    "indices = []\n",
    "for arange in ranges:\n",
    "    pred_current = predictions[arange]\n",
    "    embe_current = embeddings[arange]\n",
    "    classes = np.bincount(pred_current)\n",
    "    min_count = np.min(classes)\n",
    "    ind = []\n",
    "    for clazz in np.unique(pred_current):\n",
    "        clazz_index = np.where(pred_current == clazz)[0]\n",
    "        clazz_index = np.random.choice(clazz_index, min_count, replace=False)\n",
    "        ind.append(clazz_index)\n",
    "    indices.append(np.concatenate(ind) + arange[0])\n",
    "\n",
    "embeddings = np.concatenate((embeddings[indices[0]], embeddings[indices[1]], embeddings[indices[2]]), axis=0)\n",
    "predictions = np.concatenate((predictions[indices[0]], predictions[indices[1]], predictions[indices[2]]), axis=0)\n",
    "train_tot = len(indices[0])\n",
    "val_tot = train_tot + len(indices[1])\n",
    "test_tot = val_tot + len(indices[2])\n",
    "\n",
    "train_counts = np.bincount(predictions[:train_tot])\n",
    "val_counts = np.bincount(predictions[train_tot:val_tot])\n",
    "test_counts = np.bincount(predictions[val_tot:test_tot])\n",
    "print(f\"Train: {train_tot}, Validation: {val_tot - train_tot}, Test: {test_tot - val_tot}\")\n",
    "print(f\"Train counts: {train_counts}, Validation counts: {val_counts}, Test counts: {test_counts}\")"
   ]
  },
  {
   "cell_type": "code",
   "execution_count": 5,
   "id": "4ef0ab2e",
   "metadata": {},
   "outputs": [
    {
     "data": {
      "image/png": "[encoded data removed]",
      "text/plain": [
       "<Figure size 640x480 with 1 Axes>"
      ]
     },
     "metadata": {},
     "output_type": "display_data"
    }
   ],
   "source": [
    "train_counts = np.bincount(predictions[:train_tot])\n",
    "val_counts = np.bincount(predictions[train_tot:val_tot])\n",
    "test_counts = np.bincount(predictions[val_tot:test_tot])\n",
    "total_classes = len(train_counts)\n",
    "\n",
    "plt.figure()\n",
    "x_labels = range(total_classes)\n",
    "plt.bar(x_labels, train_counts, width=0.2, label='Train', align='center')\n",
    "plt.bar([x + 0.25 for x in x_labels], val_counts, width=0.2, label='Validation', align='center')\n",
    "plt.bar([x + 0.5 for x in x_labels], test_counts, width=0.2, label='Test', align='center')\n",
    "plt.xticks(x_labels, [f\"Class {i}\" for i in x_labels])\n",
    "plt.xlabel('Class')\n",
    "plt.ylabel('Number of Samples')\n",
    "plt.title('Number of Samples per Class in Each Dataset')\n",
    "plt.legend()\n",
    "plt.tight_layout()\n",
    "plt.show()"
   ]
  },
  {
   "cell_type": "code",
   "execution_count": 6,
   "id": "4313a032",
   "metadata": {},
   "outputs": [
    {
     "name": "stdout",
     "output_type": "stream",
     "text": [
      "Saved embeddings and predictions to ../../datasets/covid_cxr_embeddings.npz\n"
     ]
    }
   ],
   "source": [
    "# Save the embeddings and predictions to a numpy file\n",
    "np.savez(\n",
    "    dataset_embeddings,\n",
    "    x_train=embeddings[:train_tot],\n",
    "    y_train=predictions[:train_tot],\n",
    "    x_val=embeddings[train_tot:val_tot],\n",
    "    y_val=predictions[train_tot:val_tot],\n",
    "    x_test=embeddings[val_tot:test_tot],\n",
    "    y_test=predictions[val_tot:test_tot],\n",
    ")\n",
    "print(f\"Saved embeddings and predictions to {dataset_embeddings}\")"
   ]
  }
 ],
 "metadata": {
  "kernelspec": {
   "display_name": ".venv",
   "language": "python",
   "name": "python3"
  },
  "language_info": {
   "codemirror_mode": {
    "name": "ipython",
    "version": 3
   },
   "file_extension": ".py",
   "mimetype": "text/x-python",
   "name": "python",
   "nbconvert_exporter": "python",
   "pygments_lexer": "ipython3",
   "version": "3.12.10"
  }
 },
 "nbformat": 4,
 "nbformat_minor": 5
}
